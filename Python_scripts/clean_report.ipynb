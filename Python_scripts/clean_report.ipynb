{
 "cells": [
  {
   "cell_type": "code",
   "execution_count": 1,
   "metadata": {},
   "outputs": [],
   "source": [
    "import matplotlib.pyplot as plt\n",
    "import numpy as np\n",
    "import discopy.util as util\n",
    "import discopy.plot as plot\n",
    "import discopy.geom as geom\n",
    "from pathlib import Path\n",
    "plt.style.use('ggplot')\n",
    "import pandas as pd"
   ]
  },
  {
   "cell_type": "code",
   "execution_count": 29,
   "metadata": {},
   "outputs": [],
   "source": [
    "def find_bad_segments(t):\n",
    "    print(\"start\")\n",
    "    dt = t[1:] - t[:-1]\n",
    "    restart_index = np.where(dt < 0)[0] + 1\n",
    "    print(restart_index)\n",
    "    bad_b = restart_index + 1\n",
    "    bad_a = []\n",
    "    good_a = 0\n",
    "    for b in bad_b:\n",
    "        result = np.searchsorted(t[good_a:b-1], t[b]) + good_a\n",
    "        bad_a.append(result)\n",
    "        good_a = b\n",
    "    segs = list(zip(bad_a, bad_b))\n",
    "    print(segs)\n",
    "    return segs\n",
    "\n",
    "def clean_bad_segments(bad_segs, data):\n",
    "    mask = np.empty((data.shape[0]), dtype=bool)\n",
    "    mask[:] = True\n",
    "    for seg in bad_segs:\n",
    "        mask[seg[0]:seg[1]] = False\n",
    "    return data[mask]\n",
    "\n",
    "    \n"
   ]
  },
  {
   "cell_type": "code",
   "execution_count": 30,
   "metadata": {},
   "outputs": [
    {
     "name": "stdout",
     "output_type": "stream",
     "text": [
      "start\n",
      "[]\n",
      "[]\n",
      "start\n",
      "[6]\n",
      "[(5, 7)]\n",
      "start\n",
      "[ 4 10]\n",
      "[(3, 5), (7, 11)]\n"
     ]
    },
    {
     "data": {
      "text/plain": [
       "(array([0, 1, 2, 3, 4, 5, 6, 7, 8]),\n",
       " array([0, 1, 2, 3, 4, 5, 6, 7, 8]),\n",
       " array([0, 1, 2, 3, 4, 5, 4, 5, 6, 7, 8]),\n",
       " array([0, 1, 2, 3, 4, 5, 6, 7, 8]),\n",
       " array([0. , 0.1, 0.2, 0.3, 0.2, 0.3, 0.4, 0.5, 0.6, 0.7, 0.4, 0.5, 0.6,\n",
       "        0.7, 0.8]),\n",
       " array([0. , 0.1, 0.2, 0.3, 0.4, 0.5, 0.6, 0.7, 0.8]))"
      ]
     },
     "execution_count": 30,
     "metadata": {},
     "output_type": "execute_result"
    }
   ],
   "source": [
    "t1 = np.array([0, 1, 2, 3, 4, 5, 6, 7, 8])\n",
    "t2 = np.array([0, 1, 2, 3, 4, 5, 4, 5, 6, 7, 8])\n",
    "t3 = np.array([0, 0.1, 0.2, 0.3, 0.2, 0.3, 0.4, 0.5, 0.6, 0.7, 0.4, 0.5, 0.6, 0.7, 0.8])\n",
    "segs_1 = find_bad_segments(t1)\n",
    "segs_2 = find_bad_segments(t2)\n",
    "segs_3 = find_bad_segments(t3)\n",
    "\n",
    "t1, clean_bad_segments(segs_1, t1), t2, clean_bad_segments(segs_2, t2), t3, clean_bad_segments(segs_3, t3)"
   ]
  },
  {
   "cell_type": "code",
   "execution_count": null,
   "metadata": {},
   "outputs": [],
   "source": []
  }
 ],
 "metadata": {
  "kernelspec": {
   "display_name": "work",
   "language": "python",
   "name": "python3"
  },
  "language_info": {
   "codemirror_mode": {
    "name": "ipython",
    "version": 3
   },
   "file_extension": ".py",
   "mimetype": "text/x-python",
   "name": "python",
   "nbconvert_exporter": "python",
   "pygments_lexer": "ipython3",
   "version": "3.11.3"
  },
  "orig_nbformat": 4
 },
 "nbformat": 4,
 "nbformat_minor": 2
}
