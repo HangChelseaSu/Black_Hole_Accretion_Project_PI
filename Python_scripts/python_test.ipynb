{
 "cells": [
  {
   "cell_type": "code",
   "execution_count": 1,
   "metadata": {},
   "outputs": [],
   "source": [
    "import matplotlib.pyplot as plt\n",
    "import numpy as np\n",
    "import discopy.util as util\n",
    "import discopy.plot as plot\n",
    "import discopy.geom as geom\n",
    "from pathlib import Path"
   ]
  },
  {
   "cell_type": "code",
   "execution_count": 2,
   "metadata": {},
   "outputs": [],
   "source": [
    "checkpoint_root = Path('/Users/chelseasu/Documents/Disco/')\n",
    "plot_dir = '/Users/chelseasu/Documents/disco_plots/'"
   ]
  },
  {
   "cell_type": "code",
   "execution_count": 3,
   "metadata": {},
   "outputs": [],
   "source": [
    "def make_plots_rho(checkpoint, fig_name):\n",
    "    t, r, phi, z, prim, dat = util.loadCheckpoint(checkpoint)\n",
    "    rho = prim[:,0]\n",
    "    p = prim[:,1]\n",
    "    vr = prim[:,2]\n",
    "    om = prim[:,3]\n",
    "    vz = prim[:,4]\n",
    "    fig, ax = plt.subplots(1, 1)\n",
    "    ax.plot(r, rho)\n",
    "    ax.set_ylim(0, 12)\n",
    "    ax.set_ylabel('rho')\n",
    "    fig.savefig(plot_dir + fig_name)\n",
    "    plt.close(fig) #delete figure from memory\n",
    "    return"
   ]
  },
  {
   "cell_type": "code",
   "execution_count": 4,
   "metadata": {},
   "outputs": [],
   "source": [
    "for i in range(80):\n",
    "    label = '{0:04d}'.format(i)\n",
    "    checkpoint_name = 'checkpoint_' + label + '.h5'\n",
    "    fig_name = 'rho_' + label + '.png'\n",
    "    make_plots_rho(checkpoint_root/ checkpoint_name, fig_name)\n"
   ]
  },
  {
   "cell_type": "code",
   "execution_count": 35,
   "metadata": {},
   "outputs": [],
   "source": [
    "def make_plots_c_s(checkpoint, fig_name):\n",
    "    t, r, phi, z, prim, dat = util.loadCheckpoint(checkpoint)\n",
    "    pars = util.loadPars(checkpoint_root/ checkpoint_name)\n",
    "    gamma = pars['Adiabatic_Index']\n",
    "  \n",
    "    rho = prim[:,0]\n",
    "    p = prim[:,1]\n",
    "    vr = prim[:,2]\n",
    "    om = prim[:,3]\n",
    "    vz = prim[:,4]\n",
    "    c_s = np.sqrt(gamma*p/rho)\n",
    "    fig, ax = plt.subplots(1, 1)\n",
    "    ax.plot(r, c_s)\n",
    "    ax.set_ylim(0, 0.5)\n",
    "    ax.set_ylabel('c_s')\n",
    "    fig.savefig(plot_dir + fig_name)\n",
    "    plt.close(fig) #delete figure from memory\n",
    "    return"
   ]
  },
  {
   "cell_type": "code",
   "execution_count": 36,
   "metadata": {},
   "outputs": [],
   "source": [
    "for i in range(0, 80):\n",
    "    label = '{0:04d}'.format(i)\n",
    "    checkpoint_name = 'checkpoint_' + label + '.h5'\n",
    "    fig_name = 'c_s_' + label + '.png'\n",
    "    make_plots_c_s(checkpoint_root/ checkpoint_name, fig_name)\n"
   ]
  },
  {
   "cell_type": "code",
   "execution_count": 37,
   "metadata": {},
   "outputs": [],
   "source": [
    "def make_plots_sigma_avg(checkpoint, fig_name):\n",
    "    t, r, phi, z, prim, dat = util.loadCheckpoint(checkpoint)\n",
    "    opts = util.loadOpts(checkpoint)\n",
    "    pars = util.loadPars(checkpoint)\n",
    "    rho = prim[:,0]\n",
    "    p = prim[:,1]\n",
    "    vr = prim[:,2]\n",
    "    om = prim[:,3]\n",
    "    vz = prim[:,4]\n",
    "    R = np.unique(r)\n",
    "\n",
    "    sigma_average = geom.integrate2(rho, dat, opts, pars) / (2 * np.pi)\n",
    "    m_dot = - geom.integrate2(r * rho * vr, dat, opts, pars) \n",
    "\n",
    "    fig, ax = plt.subplots(2, 1)\n",
    "    ax[0].plot(R, sigma_average)\n",
    "    ax[1].plot(R, m_dot)\n",
    "    ax[1].set_ylim([-1, 1])\n",
    "    ax[0].set_ylabel(r'$\\langle \\Sigma \\rangle$')\n",
    "    ax[1].set_ylabel(r'$\\dot{M}$')\n",
    "    fig.savefig(plot_dir + fig_name)\n",
    "    plt.close(fig) #delete figure from memory\n",
    "    return"
   ]
  },
  {
   "cell_type": "code",
   "execution_count": 38,
   "metadata": {},
   "outputs": [],
   "source": [
    "for i in range(0, 80):\n",
    "    label = '{0:04d}'.format(i)\n",
    "    checkpoint_name = 'checkpoint_' + label + '.h5'\n",
    "    fig_name = 'sigma_mdot' + label + '.png'\n",
    "    make_plots_sigma_avg(checkpoint_root/ checkpoint_name, fig_name)\n"
   ]
  },
  {
   "cell_type": "code",
   "execution_count": 39,
   "metadata": {},
   "outputs": [],
   "source": [
    "def make_plots_Hr(checkpoint, fig_name):\n",
    "    t, r, phi, z, prim, dat = util.loadCheckpoint(checkpoint)\n",
    "    rho = prim[:,0]\n",
    "    p = prim[:,1]\n",
    "    vr = prim[:,2]\n",
    "    om = prim[:,3]\n",
    "    vz = prim[:,4]\n",
    "    R = np.unique(r)\n",
    "    pars = util.loadPars(checkpoint_root/ checkpoint_name)\n",
    "    gamma = pars['Adiabatic_Index']\n",
    "    c_s = np.sqrt(gamma*p/rho)\n",
    "    H = c_s / om\n",
    "    Hr = H / r\n",
    "\n",
    "    fig, ax = plt.subplots(1, 1)\n",
    "    ax.plot(r, Hr)\n",
    "    ax.set_ylabel(r'$H/r$')\n",
    "    ax.set_ylim([0, 0.7])\n",
    "    fig.savefig(plot_dir + fig_name)\n",
    "    plt.close(fig) #delete figure from memory\n",
    "    return"
   ]
  },
  {
   "cell_type": "code",
   "execution_count": 40,
   "metadata": {},
   "outputs": [],
   "source": [
    "for i in range(0, 80):\n",
    "    label = '{0:04d}'.format(i)\n",
    "    checkpoint_name = 'checkpoint_' + label + '.h5'\n",
    "    fig_name = 'Hr_' + label + '.png'\n",
    "    make_plots_Hr(checkpoint_root/ checkpoint_name, fig_name)\n"
   ]
  },
  {
   "cell_type": "code",
   "execution_count": 23,
   "metadata": {},
   "outputs": [],
   "source": [
    "checkpoint = '/Users/chelseasu/Documents/Disco/checkpoint_0005.h5'\n",
    "t, r, phi, z, prim, dat = util.loadCheckpoint(checkpoint)\n",
    "rho = prim[:,0]\n",
    "p = prim[:,1]\n",
    "vr = prim[:,2]\n",
    "om = prim[:,3]\n",
    "vz = prim[:,4]\n",
    "R = np.unique(r)\n",
    "pars = util.loadPars(checkpoint)\n",
    "gamma = pars['Adiabatic_Index']\n",
    "c_s = np.sqrt(gamma*p/rho)\n",
    "H = c_s / om\n",
    "Hr = H / r"
   ]
  },
  {
   "cell_type": "code",
   "execution_count": 24,
   "metadata": {},
   "outputs": [
    {
     "data": {
      "text/plain": [
       "[<matplotlib.lines.Line2D at 0x7fc21035dbd0>]"
      ]
     },
     "execution_count": 24,
     "metadata": {},
     "output_type": "execute_result"
    },
    {
     "data": {
      "image/png": "[encoded data removed]",
      "text/plain": [
       "<Figure size 432x288 with 1 Axes>"
      ]
     },
     "metadata": {
      "needs_background": "light"
     },
     "output_type": "display_data"
    }
   ],
   "source": [
    "fig, ax = plt.subplots(1, 1)\n",
    "ax.plot(r, Hr)"
   ]
  },
  {
   "cell_type": "code",
   "execution_count": null,
   "metadata": {},
   "outputs": [],
   "source": []
  },
  {
   "cell_type": "code",
   "execution_count": 22,
   "metadata": {},
   "outputs": [
    {
     "data": {
      "text/plain": [
       "(4992,)"
      ]
     },
     "execution_count": 22,
     "metadata": {},
     "output_type": "execute_result"
    }
   ],
   "source": [
    "r.shape"
   ]
  },
  {
   "cell_type": "code",
   "execution_count": 48,
   "metadata": {},
   "outputs": [
    {
     "data": {
      "image/png": "[encoded data removed]",
      "text/plain": [
       "<Figure size 432x288 with 2 Axes>"
      ]
     },
     "metadata": {
      "needs_background": "light"
     },
     "output_type": "display_data"
    }
   ],
   "source": [
    "fig, ax = plt.subplots(1, 1)\n",
    "plot.plotZSlice(fig, ax, rjph, piph, r, c_s, z, 'sound_speed', pars, opts)\n",
    "fig.savefig('sound_speed.png')\n"
   ]
  },
  {
   "cell_type": "code",
   "execution_count": 51,
   "metadata": {},
   "outputs": [
    {
     "data": {
      "image/png": "[encoded data removed]",
      "text/plain": [
       "<Figure size 432x288 with 2 Axes>"
      ]
     },
     "metadata": {
      "needs_background": "light"
     },
     "output_type": "display_data"
    }
   ],
   "source": [
    "fig, ax = plt.subplots(1, 1)\n",
    "plot.plotZSlice(fig, ax, rjph, piph, r, scalar, z, '', pars, opts)\n",
    "# fig.savefig('sound_speed.png')"
   ]
  },
  {
   "cell_type": "code",
   "execution_count": null,
   "metadata": {},
   "outputs": [],
   "source": [
    "# Plot accretion rate as a function of r for all checkpoints\n",
    "# Plot solutions from disco primer"
   ]
  }
 ],
 "metadata": {
  "kernelspec": {
   "display_name": "py3",
   "language": "python",
   "name": "python3"
  },
  "language_info": {
   "codemirror_mode": {
    "name": "ipython",
    "version": 3
   },
   "file_extension": ".py",
   "mimetype": "text/x-python",
   "name": "python",
   "nbconvert_exporter": "python",
   "pygments_lexer": "ipython3",
   "version": "3.10.0"
  },
  "orig_nbformat": 4
 },
 "nbformat": 4,
 "nbformat_minor": 2
}
