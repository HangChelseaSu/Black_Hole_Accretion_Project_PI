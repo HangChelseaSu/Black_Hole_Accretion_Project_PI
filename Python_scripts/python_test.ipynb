{
 "cells": [
  {
   "cell_type": "code",
   "execution_count": 1,
   "metadata": {},
   "outputs": [],
   "source": [
    "import matplotlib.pyplot as plt\n",
    "import numpy as np\n",
    "import discopy.util as util\n",
    "import discopy.plot as plot\n",
    "from pathlib import Path"
   ]
  },
  {
   "cell_type": "code",
   "execution_count": 37,
   "metadata": {},
   "outputs": [],
   "source": [
    "checkpoint_root = Path('/Users/chelseasu/Documents/Disco/')\n",
    "opts = util.loadOpts(checkpoint_root/ 'checkpoint_0005.h5')\n",
    "pars = util.loadPars(checkpoint_root/ 'checkpoint_0005.h5')"
   ]
  },
  {
   "cell_type": "code",
   "execution_count": 38,
   "metadata": {},
   "outputs": [],
   "source": [
    "t, r, phi, z, prim, dat = util.loadCheckpoint(checkpoint_root/ 'checkpoint_0005.h5')"
   ]
  },
  {
   "cell_type": "code",
   "execution_count": 39,
   "metadata": {},
   "outputs": [
    {
     "data": {
      "text/plain": [
       "(1.054042495805124, (4992,), (4992,), (4992,))"
      ]
     },
     "execution_count": 39,
     "metadata": {},
     "output_type": "execute_result"
    }
   ],
   "source": [
    "t, np.shape(r), np.shape(phi), np.shape(z)"
   ]
  },
  {
   "cell_type": "code",
   "execution_count": 17,
   "metadata": {},
   "outputs": [
    {
     "data": {
      "text/plain": [
       "(array([0.22138002, 0.22138002, 0.22138002, 0.22138002, 0.22138002,\n",
       "        0.22138002, 0.22138002, 0.22138002, 0.22138002, 0.22138002,\n",
       "        0.22138002, 0.22138002, 0.22138002, 0.22138002, 0.22138002,\n",
       "        0.22138002, 0.22138002, 0.22138002, 0.22138002, 0.22138002,\n",
       "        0.22138002, 0.22138002, 0.22138002, 0.22138002, 0.22138002,\n",
       "        0.22138002, 0.22138002, 0.22138002, 0.22138002, 0.27429762,\n",
       "        0.27429762, 0.27429762, 0.27429762, 0.27429762, 0.27429762,\n",
       "        0.27429762, 0.27429762, 0.27429762, 0.27429762, 0.27429762]),\n",
       " array([ 2.34539071,  2.56205227,  2.77871383,  2.99537539,  3.21203695,\n",
       "         3.42869852,  3.64536008,  3.86202164,  4.0786832 ,  4.29534477,\n",
       "         4.51200633,  4.72866789,  4.94532945,  5.16199102,  5.37865258,\n",
       "         5.59531414,  5.8119757 ,  6.02863726, -0.03788648,  0.17877508,\n",
       "         0.39543664,  0.61209821,  0.82875977,  1.04542133,  1.26208289,\n",
       "         1.47874446,  1.69540602,  1.91206758,  2.12872914,  2.29881123,\n",
       "         2.47833081,  2.65785039,  2.83736997,  3.01688955,  3.19640913,\n",
       "         3.37592871,  3.55544829,  3.73496787,  3.91448745,  4.09400703]),\n",
       " array([0., 0., 0., 0., 0., 0., 0., 0., 0., 0., 0., 0., 0., 0., 0., 0., 0.,\n",
       "        0., 0., 0., 0., 0., 0., 0., 0., 0., 0., 0., 0., 0., 0., 0., 0., 0.,\n",
       "        0., 0., 0., 0., 0., 0.]))"
      ]
     },
     "execution_count": 17,
     "metadata": {},
     "output_type": "execute_result"
    }
   ],
   "source": [
    "r[0:40], phi[0:40], z[0:40]"
   ]
  },
  {
   "cell_type": "code",
   "execution_count": 49,
   "metadata": {},
   "outputs": [],
   "source": [
    "# prim includes 5 hydro variables and 1 passive scalar\n",
    "rho = prim[:,0]\n",
    "p = prim[:,1]\n",
    "vr = prim[:,2]\n",
    "om = prim[:,3]\n",
    "vz = prim[:,4]\n",
    "scalar = prim[:,5]\n"
   ]
  },
  {
   "cell_type": "code",
   "execution_count": 25,
   "metadata": {},
   "outputs": [
    {
     "data": {
      "text/plain": [
       "[<matplotlib.lines.Line2D at 0x7fa6d0ba50f0>]"
      ]
     },
     "execution_count": 25,
     "metadata": {},
     "output_type": "execute_result"
    },
    {
     "data": {
      "image/png": "[encoded data removed]",
      "text/plain": [
       "<Figure size 432x288 with 1 Axes>"
      ]
     },
     "metadata": {
      "needs_background": "light"
     },
     "output_type": "display_data"
    }
   ],
   "source": [
    "plt.plot(r, om)\n",
    "plt.plot(r, np.sqrt(1/r**3))"
   ]
  },
  {
   "cell_type": "code",
   "execution_count": 31,
   "metadata": {},
   "outputs": [],
   "source": [
    "def make_plots_checkpoint(checkpoint, fig_name):\n",
    "    t, r, phi, z, prim, dat = util.loadCheckpoint(checkpoint)\n",
    "    rho = prim[:,0]\n",
    "    p = prim[:,1]\n",
    "    vr = prim[:,2]\n",
    "    om = prim[:,3]\n",
    "    vz = prim[:,4]\n",
    "    fig, ax = plt.subplots(1, 1)\n",
    "    ax.plot(r, rho)\n",
    "    ax.set_ylim(0, 1.2)\n",
    "    fig.savefig(fig_name)\n",
    "    plt.close(fig) #delete figure from memory\n",
    "    return"
   ]
  },
  {
   "cell_type": "code",
   "execution_count": 32,
   "metadata": {},
   "outputs": [],
   "source": [
    "for i in range(30):\n",
    "    label = '{0:04d}'.format(i)\n",
    "    checkpoint_name = 'checkpoint_' + label + '.h5'\n",
    "    fig_name = 'rho_' + label + '.png'\n",
    "    make_plots_checkpoint(checkpoint_root/ checkpoint_name, fig_name)\n"
   ]
  },
  {
   "cell_type": "code",
   "execution_count": 41,
   "metadata": {},
   "outputs": [],
   "source": [
    "gamma = pars['Adiabatic_Index']\n",
    "c_s = np.sqrt(gamma*p/rho) "
   ]
  },
  {
   "cell_type": "code",
   "execution_count": 45,
   "metadata": {},
   "outputs": [],
   "source": [
    "rjph = dat[0] # interface radii between cells\n",
    "piph = dat[3]\n"
   ]
  },
  {
   "cell_type": "code",
   "execution_count": 46,
   "metadata": {},
   "outputs": [
    {
     "data": {
      "text/plain": [
       "(4992,)"
      ]
     },
     "execution_count": 46,
     "metadata": {},
     "output_type": "execute_result"
    }
   ],
   "source": [
    "r.shape"
   ]
  },
  {
   "cell_type": "code",
   "execution_count": 48,
   "metadata": {},
   "outputs": [
    {
     "data": {
      "image/png": "[encoded data removed]",
      "text/plain": [
       "<Figure size 432x288 with 2 Axes>"
      ]
     },
     "metadata": {
      "needs_background": "light"
     },
     "output_type": "display_data"
    }
   ],
   "source": [
    "fig, ax = plt.subplots(1, 1)\n",
    "plot.plotZSlice(fig, ax, rjph, piph, r, c_s, z, 'sound_speed', pars, opts)\n",
    "fig.savefig('sound_speed.png')\n"
   ]
  },
  {
   "cell_type": "code",
   "execution_count": 51,
   "metadata": {},
   "outputs": [
    {
     "data": {
      "image/png": "[encoded data removed]",
      "text/plain": [
       "<Figure size 432x288 with 2 Axes>"
      ]
     },
     "metadata": {
      "needs_background": "light"
     },
     "output_type": "display_data"
    }
   ],
   "source": [
    "fig, ax = plt.subplots(1, 1)\n",
    "plot.plotZSlice(fig, ax, rjph, piph, r, scalar, z, '', pars, opts)\n",
    "# fig.savefig('sound_speed.png')"
   ]
  },
  {
   "cell_type": "code",
   "execution_count": null,
   "metadata": {},
   "outputs": [],
   "source": [
    "# Plot accretion rate as a function of r for all checkpoints\n",
    "# Plot solutions from disco primer"
   ]
  }
 ],
 "metadata": {
  "kernelspec": {
   "display_name": "py3",
   "language": "python",
   "name": "python3"
  },
  "language_info": {
   "codemirror_mode": {
    "name": "ipython",
    "version": 3
   },
   "file_extension": ".py",
   "mimetype": "text/x-python",
   "name": "python",
   "nbconvert_exporter": "python",
   "pygments_lexer": "ipython3",
   "version": "3.10.0"
  },
  "orig_nbformat": 4
 },
 "nbformat": 4,
 "nbformat_minor": 2
}
