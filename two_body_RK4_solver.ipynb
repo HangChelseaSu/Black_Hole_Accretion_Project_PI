{
 "cells": [
  {
   "cell_type": "code",
   "execution_count": 1,
   "metadata": {},
   "outputs": [],
   "source": [
    "import numpy as np\n",
    "import matplotlib.pyplot as plt"
   ]
  },
  {
   "cell_type": "code",
   "execution_count": 55,
   "metadata": {},
   "outputs": [],
   "source": [
    "# # Define 4 ODE \n",
    "# n_step = 10000\n",
    "# v_r = np.zeros(n_step)\n",
    "# v_theta = np.zeros(n_step)\n",
    "# r = np.zeros(n_step)\n",
    "# theta = np.zeros(n_step)\n",
    "\n",
    "# #Setting initial conditions\n",
    "# v_r[0] = 19400\n",
    "# v_theta[0] = 2 * np.pi / 86400\n",
    "# r[0] = 146608000000\n",
    "# theta[0] = 0.001\n",
    "\n",
    "\n",
    "# # Take in energy and angular momentum to initiate\n",
    "\n",
    "# G = 6.674e-11\n",
    "# L = 2.67e40\n",
    "# dt = 0.00001"
   ]
  },
  {
   "cell_type": "code",
   "execution_count": 56,
   "metadata": {},
   "outputs": [],
   "source": [
    "# Define 4 ODE \n",
    "n_step = 10000\n",
    "v_r = np.zeros(n_step)\n",
    "v_theta = np.zeros(n_step)\n",
    "r = np.zeros(n_step)\n",
    "theta = np.zeros(n_step)\n",
    "\n",
    "#Setting initial conditions\n",
    "v_r[0] = 19400\n",
    "v_theta[0] = 2 * np.pi / 86400\n",
    "r[0] = 146608000000\n",
    "theta[0] = 0.001\n",
    "\n",
    "\n",
    "# Take in energy and angular momentum to initiate\n",
    "\n",
    "G = 6.674e-11\n",
    "L = 2.67e40\n",
    "dt = 0.00001"
   ]
  },
  {
   "cell_type": "code",
   "execution_count": 57,
   "metadata": {},
   "outputs": [],
   "source": [
    "for i in range(n_step-1):\n",
    "    # Use k g h l as value storers in each rk4 step\n",
    "    k1 = v_r[i]\n",
    "    g1 = v_theta[i]\n",
    "    h1 = r[i] * v_theta[i] **2 - G * L / r[i]**2\n",
    "    l1 = -2 * v_r[i] * v_theta[i] / r[i]\n",
    "\n",
    "    r_tempt_1 = r[i] + k1 * dt/2\n",
    "    theta_tempt_1 = theta[i] + g1 * dt /2\n",
    "    v_r_tempt_1 = v_r[i] + h1 * dt /2\n",
    "    v_theta_tempt_1 = v_theta[i] + l1 * dt/2\n",
    "\n",
    "    # Step 2\n",
    "    k2 = v_r_tempt_1\n",
    "    g2 = v_theta_tempt_1\n",
    "    h2 = r_tempt_1 * v_theta_tempt_1 **2 - G * L / r_tempt_1**2\n",
    "    l2 = -2 * v_r_tempt_1 * v_theta_tempt_1 / r_tempt_1\n",
    "\n",
    "    r_tempt_2 = r[i] + k2 * dt/2\n",
    "    theta_tempt_2 = theta[i] + g2 * dt /2\n",
    "    v_r_tempt_2 = v_r[i] + h2 * dt /2\n",
    "    v_theta_tempt_2 = v_theta[i] + l2 * dt/2\n",
    "\n",
    "    # Step 3\n",
    "    k3 = v_r_tempt_2\n",
    "    g3 = v_theta_tempt_2\n",
    "    h3 = r_tempt_2 * v_theta_tempt_2 **2 - G * L / r_tempt_2**2\n",
    "    l3 = -2 * v_r_tempt_2 * v_theta_tempt_2 / r_tempt_2\n",
    "\n",
    "    r_tempt_3 = r[i] + k3 * dt/2\n",
    "    theta_tempt_3 = theta[i] + g3 * dt /2\n",
    "    v_r_tempt_3 = v_r[i] + h3 * dt /2\n",
    "    v_theta_tempt_3 = v_theta[i] + l3 * dt/2\n",
    "\n",
    "    # Step 4\n",
    "    k4 = v_r_tempt_3\n",
    "    g4 = v_theta_tempt_3\n",
    "    h4 = r_tempt_3 * v_theta_tempt_3 **2 - G * L / r_tempt_3**2\n",
    "    l4 = -2 * v_r_tempt_3 * v_theta_tempt_3 / r_tempt_3\n",
    "\n",
    "    r[i+1] = r[i] + dt * (k1 + 2* k2 + 2*k3 + k4)/ 6\n",
    "    theta[i+1] = theta[i] + dt * (g1 + 2* g2 + 2*g3 + g4)/ 6\n",
    "    v_r[i+1] = v_r[i] + dt * (h1 + 2* h2 + 2*h3 + h4)/ 6\n",
    "    v_theta[i+1] = v_theta[i] + dt * (l1 + 2* l2 + 2*l3 + l4)/ 6\n",
    "\n",
    "\n"
   ]
  },
  {
   "cell_type": "code",
   "execution_count": 58,
   "metadata": {},
   "outputs": [],
   "source": [
    "x = r * np.cos(theta)\n",
    "y = r * np.sin(theta)"
   ]
  },
  {
   "cell_type": "code",
   "execution_count": 59,
   "metadata": {},
   "outputs": [
    {
     "data": {
      "text/plain": [
       "[<matplotlib.lines.Line2D at 0x7fb3e01bc2e0>]"
      ]
     },
     "execution_count": 59,
     "metadata": {},
     "output_type": "execute_result"
    },
    {
     "data": {
      "image/png": "[encoded data removed]",
      "text/plain": [
       "<Figure size 432x288 with 1 Axes>"
      ]
     },
     "metadata": {
      "needs_background": "light"
     },
     "output_type": "display_data"
    }
   ],
   "source": [
    "plt.plot(x, y)"
   ]
  },
  {
   "cell_type": "code",
   "execution_count": 69,
   "metadata": {},
   "outputs": [
    {
     "name": "stdout",
     "output_type": "stream",
     "text": [
      "150569015012.38382\n",
      "144460205500.0\n"
     ]
    }
   ],
   "source": [
    "# Comparison to analytical method\n",
    "m1 = 1.989e30 #sun mass\n",
    "m2 = 5.97219e24 # earth mass\n",
    "m = (m1 * m2) / (m1 + m2)\n",
    "alpha = G * m1 * m2\n",
    "a = 1.495e11\n",
    "e = 0.017\n",
    "theta = np.linspace(0, 2 * np.pi, 100)\n",
    "\n",
    "p = L**2 / m / alpha\n",
    " # to check\n",
    "p2 = a * (1 - e)**2\n",
    "print(p)\n",
    "print(p2)\n",
    "\n",
    "r = p / (1 + e * np.cos(theta))\n",
    "\n",
    "x = r * np.cos(theta)\n",
    "y = r * np.sin(theta)\n",
    "\n"
   ]
  },
  {
   "cell_type": "code",
   "execution_count": 70,
   "metadata": {},
   "outputs": [
    {
     "data": {
      "text/plain": [
       "array([0.        , 0.06346652, 0.12693304, 0.19039955, 0.25386607,\n",
       "       0.31733259, 0.38079911, 0.44426563, 0.50773215, 0.57119866,\n",
       "       0.63466518, 0.6981317 , 0.76159822, 0.82506474, 0.88853126,\n",
       "       0.95199777, 1.01546429, 1.07893081, 1.14239733, 1.20586385,\n",
       "       1.26933037, 1.33279688, 1.3962634 , 1.45972992, 1.52319644,\n",
       "       1.58666296, 1.65012947, 1.71359599, 1.77706251, 1.84052903,\n",
       "       1.90399555, 1.96746207, 2.03092858, 2.0943951 , 2.15786162,\n",
       "       2.22132814, 2.28479466, 2.34826118, 2.41172769, 2.47519421,\n",
       "       2.53866073, 2.60212725, 2.66559377, 2.72906028, 2.7925268 ,\n",
       "       2.85599332, 2.91945984, 2.98292636, 3.04639288, 3.10985939,\n",
       "       3.17332591, 3.23679243, 3.30025895, 3.36372547, 3.42719199,\n",
       "       3.4906585 , 3.55412502, 3.61759154, 3.68105806, 3.74452458,\n",
       "       3.8079911 , 3.87145761, 3.93492413, 3.99839065, 4.06185717,\n",
       "       4.12532369, 4.1887902 , 4.25225672, 4.31572324, 4.37918976,\n",
       "       4.44265628, 4.5061228 , 4.56958931, 4.63305583, 4.69652235,\n",
       "       4.75998887, 4.82345539, 4.88692191, 4.95038842, 5.01385494,\n",
       "       5.07732146, 5.14078798, 5.2042545 , 5.26772102, 5.33118753,\n",
       "       5.39465405, 5.45812057, 5.52158709, 5.58505361, 5.64852012,\n",
       "       5.71198664, 5.77545316, 5.83891968, 5.9023862 , 5.96585272,\n",
       "       6.02931923, 6.09278575, 6.15625227, 6.21971879, 6.28318531])"
      ]
     },
     "execution_count": 70,
     "metadata": {},
     "output_type": "execute_result"
    }
   ],
   "source": [
    "np.linspace(0, 2 * np.pi, 100)"
   ]
  },
  {
   "cell_type": "code",
   "execution_count": 71,
   "metadata": {},
   "outputs": [
    {
     "data": {
      "text/plain": [
       "[<matplotlib.lines.Line2D at 0x7fb418bfaa40>]"
      ]
     },
     "execution_count": 71,
     "metadata": {},
     "output_type": "execute_result"
    },
    {
     "data": {
      "image/png": "[encoded data removed]",
      "text/plain": [
       "<Figure size 432x288 with 1 Axes>"
      ]
     },
     "metadata": {
      "needs_background": "light"
     },
     "output_type": "display_data"
    }
   ],
   "source": [
    "plt.plot(x, y)"
   ]
  },
  {
   "cell_type": "code",
   "execution_count": null,
   "metadata": {},
   "outputs": [],
   "source": []
  }
 ],
 "metadata": {
  "kernelspec": {
   "display_name": "py3",
   "language": "python",
   "name": "python3"
  },
  "language_info": {
   "codemirror_mode": {
    "name": "ipython",
    "version": 3
   },
   "file_extension": ".py",
   "mimetype": "text/x-python",
   "name": "python",
   "nbconvert_exporter": "python",
   "pygments_lexer": "ipython3",
   "version": "3.10.0"
  },
  "orig_nbformat": 4
 },
 "nbformat": 4,
 "nbformat_minor": 2
}
