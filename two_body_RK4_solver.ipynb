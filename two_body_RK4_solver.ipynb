{
 "cells": [
  {
   "cell_type": "code",
   "execution_count": 1,
   "metadata": {},
   "outputs": [],
   "source": [
    "import numpy as np\n",
    "import matplotlib.pyplot as plt"
   ]
  },
  {
   "cell_type": "code",
   "execution_count": 2,
   "metadata": {},
   "outputs": [],
   "source": [
    "# Use units in tune to the syustem to reduce numbers\n",
    "# Rewrite the equations\n",
    "\n",
    "# Define 4 ODE \n",
    "n_step = 2\n",
    "v_r = np.zeros(n_step)\n",
    "v_theta = np.zeros(n_step)\n",
    "r = np.zeros(n_step)\n",
    "theta = np.zeros(n_step)\n",
    "\n",
    "m1 = 1.989e30 #sun mass\n",
    "m2 = 5.97219e24 # earth mass\n",
    "m = (m1 * m2) / (m1 + m2)\n",
    "\n",
    "#Setting initial conditions\n",
    "v_r[0] = 19400\n",
    "v_theta[0] = 2 * np.pi / 86400\n",
    "r[0] = 146608000000\n",
    "# theta = np.linspace(0, 2 * np.pi, n_step)\n",
    "theta[0] = 0\n",
    "\n",
    "\n",
    "# Take in energy and angular momentum to initiate\n",
    "\n",
    "G = 6.674e-11\n",
    "L = 2.67e40\n",
    "\n",
    "#Evolve time with theta\n",
    "dt = 1e30"
   ]
  },
  {
   "cell_type": "code",
   "execution_count": 3,
   "metadata": {},
   "outputs": [],
   "source": [
    "# Define useful functions\n",
    "def v_r_dot(r, v_theta, G, m):\n",
    "    return r * v_theta**2 - G * m / r**2\n",
    "\n",
    "def v_theta_dot(r, v_r, L, m):\n",
    "    return -2 * v_r * L / m / r**3\n",
    "\n",
    "def rk4_step(r, k, dt):\n",
    "    return r + k * dt / 2\n",
    "\n",
    "def rk4_forward(r, dt, k1, k2, k3, k4):\n",
    "    return r + dt * (k1 + 2* k2 + 2*k3 + k4)/ 6\n",
    "\n",
    "k = np.zeros(4)\n",
    "g = np.zeros(4)\n",
    "h = np.zeros(4)\n",
    "l = np.zeros(4)\n"
   ]
  },
  {
   "cell_type": "code",
   "execution_count": 4,
   "metadata": {},
   "outputs": [
    {
     "name": "stdout",
     "output_type": "stream",
     "text": [
      "step: 0\n",
      "sub_step: 0\n",
      "sub_step: 1\n"
     ]
    }
   ],
   "source": [
    "for i in range(n_step-1):\n",
    "    print(\"step:\", i)\n",
    "    # Use k g h l as value storers in each rk4 step\n",
    "    r_tempt = v_r[i]\n",
    "    theta_tempt = v_theta[i]\n",
    "    v_r_tempt = v_r_dot(r[i], v_theta[i], G, m)\n",
    "    v_theta_tempt = v_theta_dot(r[i], v_r[i], L, m)\n",
    "    \n",
    "    for j in range(4):\n",
    "        print(\"sub_step:\", j)\n",
    "        k[j] = v_r_tempt\n",
    "        g[j] = v_theta_tempt\n",
    "        h[j] = v_r_dot(r_tempt, v_theta_tempt, G, m)\n",
    "        l[j] = v_theta_dot(r_tempt, v_r_tempt, L, m)\n",
    "\n",
    "        r_tempt = rk4_step(r[i], k[j], dt)\n",
    "        theta_tempt = rk4_step(theta[i], g[j], dt)\n",
    "        v_r_tempt = rk4_step(v_r[i], h[j], dt)\n",
    "        v_theta_tempt = rk4_step(v_theta[i], l[j], dt)\n",
    "\n",
    "    r[i+1] = rk4_forward(r[i], dt, k[0], k[1], k[2], k[3])\n",
    "    theta[i+1] = rk4_forward(theta[i], dt, g[0], g[1], g[2], g[3])\n",
    "    v_r[i+1] = rk4_forward(v_r[i], dt, h[0], h[1], h[2], h[3])\n",
    "    v_theta[i+1] = rk4_forward(v_theta[i], dt, l[0], l[1], l[2], l[3])\n",
    "\n"
   ]
  },
  {
   "cell_type": "code",
   "execution_count": null,
   "metadata": {},
   "outputs": [],
   "source": [
    "x = r * np.cos(theta)\n",
    "y = r * np.sin(theta)"
   ]
  },
  {
   "cell_type": "code",
   "execution_count": null,
   "metadata": {},
   "outputs": [
    {
     "data": {
      "text/plain": [
       "array([1.46608e+11])"
      ]
     },
     "execution_count": 8,
     "metadata": {},
     "output_type": "execute_result"
    }
   ],
   "source": [
    "x"
   ]
  },
  {
   "cell_type": "code",
   "execution_count": null,
   "metadata": {},
   "outputs": [
    {
     "data": {
      "text/plain": [
       "Text(0.5, 1.0, 'RK4 Orbit')"
      ]
     },
     "execution_count": 7,
     "metadata": {},
     "output_type": "execute_result"
    },
    {
     "data": {
      "image/png": "[encoded data removed]",
      "text/plain": [
       "<Figure size 432x288 with 1 Axes>"
      ]
     },
     "metadata": {
      "needs_background": "light"
     },
     "output_type": "display_data"
    }
   ],
   "source": [
    "plt.plot(x, y)\n",
    "plt.xlabel('x')\n",
    "plt.ylabel('y')\n",
    "plt.title('RK4 Orbit')"
   ]
  },
  {
   "cell_type": "code",
   "execution_count": 119,
   "metadata": {},
   "outputs": [
    {
     "name": "stdout",
     "output_type": "stream",
     "text": [
      "150569015012.38382\n",
      "144460205500.0\n"
     ]
    }
   ],
   "source": [
    "# Comparison to analytical method\n",
    "# Use initial conditions listed above\n",
    "\n",
    "m1 = 1.989e30 #sun mass\n",
    "m2 = 5.97219e24 # earth mass\n",
    "m = (m1 * m2) / (m1 + m2)\n",
    "alpha = G * m1 * m2\n",
    "a = 1.495e11\n",
    "e = 0.017\n",
    "theta = np.linspace(0, 2 * np.pi, 100)\n",
    "\n",
    "p = L**2 / m / alpha\n",
    " # to check\n",
    "p2 = a * (1 - e)**2\n",
    "print(p)\n",
    "print(p2)\n",
    "\n",
    "r = p / (1 + e * np.cos(theta))\n",
    "\n",
    "x_ana = r * np.cos(theta)\n",
    "y_ana = r * np.sin(theta)\n",
    "\n"
   ]
  },
  {
   "cell_type": "code",
   "execution_count": 120,
   "metadata": {},
   "outputs": [
    {
     "data": {
      "text/plain": [
       "Text(0.5, 1.0, 'Analytical Orbit')"
      ]
     },
     "execution_count": 120,
     "metadata": {},
     "output_type": "execute_result"
    },
    {
     "data": {
      "image/png": "[encoded data removed]",
      "text/plain": [
       "<Figure size 432x288 with 1 Axes>"
      ]
     },
     "metadata": {
      "needs_background": "light"
     },
     "output_type": "display_data"
    }
   ],
   "source": [
    "plt.plot(x_ana, y_ana)\n",
    "plt.xlabel('x')\n",
    "plt.ylabel('y')\n",
    "plt.title('Analytical Orbit')"
   ]
  },
  {
   "cell_type": "code",
   "execution_count": 123,
   "metadata": {},
   "outputs": [
    {
     "name": "stderr",
     "output_type": "stream",
     "text": [
      "/var/folders/pb/nsj6z9cj023fgm71bp0lkc240000gn/T/ipykernel_63958/3639965294.py:2: RuntimeWarning: invalid value encountered in true_divide\n",
      "  np.mean((x - x_ana) / x_ana), np.mean((y - y_ana) / y_ana)\n"
     ]
    },
    {
     "data": {
      "text/plain": [
       "(-0.026231808386973313, nan)"
      ]
     },
     "execution_count": 123,
     "metadata": {},
     "output_type": "execute_result"
    }
   ],
   "source": [
    "# Error analysis\n",
    "np.mean((x - x_ana) / x_ana), np.mean((y - y_ana) / y_ana)"
   ]
  },
  {
   "cell_type": "code",
   "execution_count": 144,
   "metadata": {},
   "outputs": [],
   "source": [
    "# Playing with other potentials \n",
    "# Define 4 ODE \n",
    "n_step = 100\n",
    "v_r = np.zeros(n_step)\n",
    "v_theta = np.zeros(n_step)\n",
    "r = np.zeros(n_step)\n",
    "theta = np.zeros(n_step)\n",
    "\n",
    "#Setting initial conditions\n",
    "v_r[0] = 19400\n",
    "v_theta[0] = 2 * np.pi / 86400\n",
    "r[0] = 146608000000\n",
    "theta = np.linspace(0, 2 * np.pi, n_step)\n",
    "# theta[0] = 0.001\n",
    "\n",
    "\n",
    "# Take in energy and angular momentum to initiate\n",
    "\n",
    "G = 6.674e-11\n",
    "# L = 2.67e40\n",
    "dt = 0.01"
   ]
  },
  {
   "cell_type": "code",
   "execution_count": 145,
   "metadata": {},
   "outputs": [
    {
     "name": "stderr",
     "output_type": "stream",
     "text": [
      "/var/folders/pb/nsj6z9cj023fgm71bp0lkc240000gn/T/ipykernel_63958/3418111515.py:3: RuntimeWarning: divide by zero encountered in double_scalars\n",
      "  L = 1/r[i-1]\n",
      "/var/folders/pb/nsj6z9cj023fgm71bp0lkc240000gn/T/ipykernel_63958/3418111515.py:29: RuntimeWarning: invalid value encountered in double_scalars\n",
      "  h3 = r_tempt_2 * v_theta_tempt_2 **2 - G * L / r_tempt_2**2\n",
      "/var/folders/pb/nsj6z9cj023fgm71bp0lkc240000gn/T/ipykernel_63958/3418111515.py:30: RuntimeWarning: invalid value encountered in double_scalars\n",
      "  l3 = -2 * v_r_tempt_2 * v_theta_tempt_2 / r_tempt_2\n",
      "/var/folders/pb/nsj6z9cj023fgm71bp0lkc240000gn/T/ipykernel_63958/3418111515.py:40: RuntimeWarning: invalid value encountered in double_scalars\n",
      "  h4 = r_tempt_3 * v_theta_tempt_3 **2 - G * L / r_tempt_3**2\n"
     ]
    }
   ],
   "source": [
    "for i in range(n_step-1):\n",
    "    L = r[i-1]**2 # Spherically symmetric\n",
    "    # Use k g h l as value storers in each rk4 step\n",
    "    k1 = v_r[i]\n",
    "    # g1 = v_theta[i]\n",
    "    h1 = r[i] * v_theta[i] **2 - G * L / r[i]**2\n",
    "    l1 = -2 * v_r[i] * v_theta[i] / r[i]\n",
    "\n",
    "    r_tempt_1 = r[i] + k1 * dt/2\n",
    "    # theta_tempt_1 = theta[i] + g1 * dt /2\n",
    "    v_r_tempt_1 = v_r[i] + h1 * dt /2\n",
    "    v_theta_tempt_1 = v_theta[i] + l1 * dt/2\n",
    "\n",
    "    # Step 2\n",
    "    k2 = v_r_tempt_1\n",
    "    # g2 = v_theta_tempt_1\n",
    "    h2 = r_tempt_1 * v_theta_tempt_1 **2 - G * L / r_tempt_1**2\n",
    "    l2 = -2 * v_r_tempt_1 * v_theta_tempt_1 / r_tempt_1\n",
    "\n",
    "    r_tempt_2 = r[i] + k2 * dt/2\n",
    "    # theta_tempt_2 = theta[i] + g2 * dt /2\n",
    "    v_r_tempt_2 = v_r[i] + h2 * dt /2\n",
    "    v_theta_tempt_2 = v_theta[i] + l2 * dt/2\n",
    "\n",
    "    # Step 3\n",
    "    k3 = v_r_tempt_2\n",
    "    # g3 = v_theta_tempt_2\n",
    "    h3 = r_tempt_2 * v_theta_tempt_2 **2 - G * L / r_tempt_2**2\n",
    "    l3 = -2 * v_r_tempt_2 * v_theta_tempt_2 / r_tempt_2\n",
    "\n",
    "    r_tempt_3 = r[i] + k3 * dt/2\n",
    "    # theta_tempt_3 = theta[i] + g3 * dt /2\n",
    "    v_r_tempt_3 = v_r[i] + h3 * dt /2\n",
    "    v_theta_tempt_3 = v_theta[i] + l3 * dt/2\n",
    "\n",
    "    # Step 4\n",
    "    k4 = v_r_tempt_3\n",
    "    # g4 = v_theta_tempt_3\n",
    "    h4 = r_tempt_3 * v_theta_tempt_3 **2 - G * L / r_tempt_3**2\n",
    "    l4 = -2 * v_r_tempt_3 * v_theta_tempt_3 / r_tempt_3\n",
    "\n",
    "    r[i+1] = r[i] + dt * (k1 + 2* k2 + 2*k3 + k4)/ 6\n",
    "    # theta[i+1] = theta[i] + dt * (g1 + 2* g2 + 2*g3 + g4)/ 6\n",
    "    v_r[i+1] = v_r[i] + dt * (h1 + 2* h2 + 2*h3 + h4)/ 6\n",
    "    v_theta[i+1] = v_theta[i] + dt * (l1 + 2* l2 + 2*l3 + l4)/ 6\n",
    "\n",
    "\n",
    "x = r * np.cos(theta)\n",
    "y = r * np.sin(theta)"
   ]
  },
  {
   "cell_type": "code",
   "execution_count": 146,
   "metadata": {},
   "outputs": [
    {
     "data": {
      "text/plain": [
       "Text(0.5, 1.0, 'RK4 Orbit')"
      ]
     },
     "execution_count": 146,
     "metadata": {},
     "output_type": "execute_result"
    },
    {
     "data": {
      "image/png": "[encoded data removed]",
      "text/plain": [
       "<Figure size 432x288 with 1 Axes>"
      ]
     },
     "metadata": {
      "needs_background": "light"
     },
     "output_type": "display_data"
    }
   ],
   "source": [
    "plt.plot(x, y)\n",
    "plt.xlabel('x')\n",
    "plt.ylabel('y')\n",
    "plt.title('RK4 Orbit')"
   ]
  },
  {
   "cell_type": "code",
   "execution_count": null,
   "metadata": {},
   "outputs": [],
   "source": []
  },
  {
   "cell_type": "code",
   "execution_count": null,
   "metadata": {},
   "outputs": [],
   "source": []
  }
 ],
 "metadata": {
  "kernelspec": {
   "display_name": "py3",
   "language": "python",
   "name": "python3"
  },
  "language_info": {
   "codemirror_mode": {
    "name": "ipython",
    "version": 3
   },
   "file_extension": ".py",
   "mimetype": "text/x-python",
   "name": "python",
   "nbconvert_exporter": "python",
   "pygments_lexer": "ipython3",
   "version": "3.10.0"
  },
  "orig_nbformat": 4
 },
 "nbformat": 4,
 "nbformat_minor": 2
}
