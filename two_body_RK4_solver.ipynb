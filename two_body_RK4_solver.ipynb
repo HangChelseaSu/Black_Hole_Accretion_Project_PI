{
 "cells": [
  {
   "cell_type": "code",
   "execution_count": 1,
   "metadata": {},
   "outputs": [],
   "source": [
    "import numpy as np\n",
    "import matplotlib.pyplot as plt"
   ]
  },
  {
   "cell_type": "code",
   "execution_count": 4,
   "metadata": {},
   "outputs": [],
   "source": [
    "# Define 4 ODE \n",
    "v_r = 1\n",
    "v_theta = 1\n",
    "r = 1\n",
    "theta = 1\n",
    "G = 1\n",
    "L = 1\n",
    "dt = 1"
   ]
  },
  {
   "cell_type": "code",
   "execution_count": null,
   "metadata": {},
   "outputs": [],
   "source": [
    "# Define RK4\n",
    "def rk4(r_n, theta_n, v_r_n, v_theta_n, v_r, v_theta, r, theta, G, L, dt):\n",
    "    # Use k g h l as value storers in each rk4 step\n",
    "    k1 = v_r\n",
    "    g1 = v_theta\n",
    "    h1 = r * v_theta **2 - G * L / r**2\n",
    "    l1 = -2 * v_r * v_theta / r\n",
    "\n",
    "    r_tempt_1 = r + k1 * dt/2\n",
    "    theta_tempt_1 = theta + g1 * dt /2\n",
    "    v_r_tempt_1 = v_r + h1 * dt /2\n",
    "    v_theta_tempt_1 = v_theta + l1 * dt/2\n",
    "\n",
    "    # Step 2\n",
    "    k2 = v_r_tempt_1\n",
    "    g2 = v_theta_tempt_1\n",
    "    h2 = r_tempt_1 * v_theta_tempt_1 **2 - G * L / r_tempt_1**2\n",
    "    l2 = -2 * v_r_tempt_1 * v_theta_tempt_1 / r_tempt_1\n",
    "\n",
    "    r_tempt_2 = r + k2 * dt/2\n",
    "    theta_tempt_2 = theta + g2 * dt /2\n",
    "    v_r_tempt_2 = v_r + h2 * dt /2\n",
    "    v_theta_tempt_2 = v_theta + l2 * dt/2\n",
    "\n",
    "    # Step 3\n",
    "    k3 = v_r_tempt_2\n",
    "    g3 = v_theta_tempt_2\n",
    "    h3 = r_tempt_2 * v_theta_tempt_2 **2 - G * L / r_tempt_2**2\n",
    "    l3 = -2 * v_r_tempt_2 * v_theta_tempt_2 / r_tempt_2\n",
    "\n",
    "    r_tempt_3 = r + k3 * dt/2\n",
    "    theta_tempt_3 = theta + g3 * dt /2\n",
    "    v_r_tempt_3 = v_r + h3 * dt /2\n",
    "    v_theta_tempt_3 = v_theta + l3 * dt/2\n",
    "\n",
    "    # Step 4\n",
    "    k4 = v_r_tempt_3\n",
    "    g4 = v_theta_tempt_3\n",
    "    h4 = r_tempt_3 * v_theta_tempt_3 **2 - G * L / r_tempt_3**2\n",
    "    l4 = -2 * v_r_tempt_3 * v_theta_tempt_3 / r_tempt_3\n",
    "\n",
    "    r_inc = r_n + dt * (k1 + 2* k2 + 2*k3 + k4)/ 6\n",
    "    theta_inc = theta_n + dt * (g1 + 2* g2 + 2*g3 + g4)/ 6\n",
    "    v_r_inc = v_r_n + dt * (h1 + 2* h2 + 2*h3 + h4)/ 6\n",
    "    v_theta_inc = v_theta_n + dt * (l1 + 2* l2 + 2*l3 + l4)/ 6\n",
    "return r_inc, theta_inc, v_r_inc, v_theta_inc\n",
    "    \n"
   ]
  }
 ],
 "metadata": {
  "kernelspec": {
   "display_name": "py3",
   "language": "python",
   "name": "python3"
  },
  "language_info": {
   "codemirror_mode": {
    "name": "ipython",
    "version": 3
   },
   "file_extension": ".py",
   "mimetype": "text/x-python",
   "name": "python",
   "nbconvert_exporter": "python",
   "pygments_lexer": "ipython3",
   "version": "3.10.0"
  },
  "orig_nbformat": 4
 },
 "nbformat": 4,
 "nbformat_minor": 2
}
